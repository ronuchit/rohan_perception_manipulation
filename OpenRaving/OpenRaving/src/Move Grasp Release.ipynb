{
 "metadata": {
  "name": "Move Grasp Release"
 },
 "nbformat": 3,
 "nbformat_minor": 0,
 "worksheets": [
  {
   "cells": [
    {
     "cell_type": "code",
     "collapsed": true,
     "input": [
      "def waitrobot(robot):\n",
      "    \"\"\"busy wait for robot completion\"\"\"\n",
      "    while not robot.GetController().IsDone():\n",
      "        time.sleep(0.01)"
     ],
     "language": "python",
     "metadata": {},
     "outputs": [],
     "prompt_number": 1
    },
    {
     "cell_type": "code",
     "collapsed": false,
     "input": [
      "import time\n",
      "import openravepy\n",
      "import numpy as np\n",
      "env = openravepy.Environment()\n",
      "env.SetViewer('qtcoin')\n",
      "env.Load('data/pr2test2.env.xml')\n",
      "robot = env.GetRobots()[0]\n",
      "\n",
      "#manip = robot.SetActiveManipulator('leftarm_torso') # set the manipulator to leftarm + torso\n",
      "manip = robot.SetActiveManipulator('leftarm') # set the manipulator to leftarm\n",
      "ikmodel = openravepy.databases.inversekinematics.InverseKinematicsModel(robot,iktype=openravepy.IkParameterization.Type.Transform6D)\n",
      "if not ikmodel.load():\n",
      "    ikmodel.autogenerate()\n",
      "basemanip = openravepy.interfaces.BaseManipulation(robot)\n",
      "taskprob = openravepy.interfaces.TaskManipulation(robot)\n",
      "\n",
      "target=env.GetKinBody('TibitsBox1')\n",
      "with env:\n",
      "    jointnames = ['l_shoulder_lift_joint','l_elbow_flex_joint','l_wrist_flex_joint','r_shoulder_lift_joint','r_elbow_flex_joint','r_wrist_flex_joint']\n",
      "    robot.SetActiveDOFs([robot.GetJoint(name).GetDOFIndex() for name in jointnames])\n",
      "    basemanip.MoveActiveJoints(goal=[1.29023451,-2.32099996,-0.69800004,1.27843491,-2.32100002,-0.69799996])\n",
      "robot.WaitForController(0)"
     ],
     "language": "python",
     "metadata": {},
     "outputs": [
      {
       "output_type": "pyout",
       "prompt_number": 1,
       "text": [
        "True"
       ]
      }
     ],
     "prompt_number": 1
    },
    {
     "cell_type": "code",
     "collapsed": false,
     "input": [
      "print 'move robot base to target'\n",
      "teleport = False\n",
      "with env:\n",
      "    if teleport:\n",
      "        th = 0\n",
      "        z = robot.GetTransform()[2,3]\n",
      "        th = 0        \n",
      "        x, y = 2.8, -1.3\n",
      "        T = openravepy.matrixFromAxisAngle([0,0,th])\n",
      "        T[:, -1] = [x, y, z, 1]\n",
      "        robot.SetTransform(T)\n",
      "    else:\n",
      "        robot.SetActiveDOFs([],openravepy.DOFAffine.X|openravepy.DOFAffine.Y|openravepy.DOFAffine.RotationAxis,[0,0,1])\n",
      "        basemanip.MoveActiveJoints(goal=[2.8,-1.3,0],maxiter=5000,steplength=0.15,maxtries=2)"
     ],
     "language": "python",
     "metadata": {},
     "outputs": [
      {
       "output_type": "stream",
       "stream": "stdout",
       "text": [
        "move robot base to target\n"
       ]
      }
     ],
     "prompt_number": 2
    },
    {
     "cell_type": "code",
     "collapsed": false,
     "input": [
      "robot.WaitForController(0)\n",
      "taskprob.ReleaseFingers()"
     ],
     "language": "python",
     "metadata": {},
     "outputs": [
      {
       "output_type": "pyout",
       "prompt_number": 3,
       "text": [
        "(None, None)"
       ]
      }
     ],
     "prompt_number": 3
    },
    {
     "cell_type": "code",
     "collapsed": false,
     "input": [
      "print 'move the arm to the target'\n",
      "Tgoal = np.array([[0,-1,0,3.5],[-1,0,0,-1.3],[0,0,-1,0.842],[0,0,0,1]])\n",
      "res = basemanip.MoveToHandPosition(matrices=[Tgoal],seedik=16)\n",
      "robot.WaitForController(0)"
     ],
     "language": "python",
     "metadata": {},
     "outputs": [
      {
       "output_type": "stream",
       "stream": "stdout",
       "text": [
        "move the arm to the target\n"
       ]
      },
      {
       "output_type": "pyout",
       "prompt_number": 4,
       "text": [
        "True"
       ]
      }
     ],
     "prompt_number": 4
    },
    {
     "cell_type": "code",
     "collapsed": false,
     "input": [
      "taskprob.CloseFingers()\n",
      "robot.WaitForController(0)"
     ],
     "language": "python",
     "metadata": {},
     "outputs": [
      {
       "output_type": "pyout",
       "prompt_number": 9,
       "text": [
        "True"
       ]
      }
     ],
     "prompt_number": 9
    },
    {
     "cell_type": "code",
     "collapsed": false,
     "input": [
      "print 'move the arm with the target back to the initial position'\n",
      "with env:\n",
      "    robot.Grab(target)\n",
      "    basemanip.MoveManipulator(goal=[0, 0, 1.29023451, 0, -2.32099996, 0, -0.69800004, 0])\n",
      "robot.WaitForController(0)"
     ],
     "language": "python",
     "metadata": {},
     "outputs": [
      {
       "output_type": "stream",
       "stream": "stdout",
       "text": [
        "move the arm with the target back to the initial position\n"
       ]
      },
      {
       "output_type": "pyout",
       "prompt_number": 5,
       "text": [
        "True"
       ]
      }
     ],
     "prompt_number": 5
    },
    {
     "cell_type": "code",
     "collapsed": false,
     "input": [
      "print 'move the robot to another location'\n",
      "with env:\n",
      "    robot.SetActiveDOFs([],openravepy.DOFAffine.X|openravepy.DOFAffine.Y|openravepy.DOFAffine.RotationAxis,[0,0,1])\n",
      "    localgoal = [0,2.4,0]\n",
      "    T = robot.GetTransform()\n",
      "    goal = np.dot(T[0:3,0:3],localgoal) + T[0:3,3]\n",
      "    with robot:\n",
      "        robot.SetActiveDOFValues(goal)\n",
      "        incollision = env.CheckCollision(robot)\n",
      "        if incollision:\n",
      "            print 'goal in collision!!'"
     ],
     "language": "python",
     "metadata": {},
     "outputs": [
      {
       "output_type": "stream",
       "stream": "stdout",
       "text": [
        "move the robot to another location\n"
       ]
      }
     ],
     "prompt_number": 6
    },
    {
     "cell_type": "code",
     "collapsed": false,
     "input": [
      "basemanip.MoveActiveJoints(goal=goal,maxiter=5000,steplength=0.15,maxtries=2)\n",
      "robot.WaitForController(0)"
     ],
     "language": "python",
     "metadata": {},
     "outputs": [
      {
       "output_type": "pyout",
       "prompt_number": 7,
       "text": [
        "True"
       ]
      }
     ],
     "prompt_number": 7
    },
    {
     "cell_type": "code",
     "collapsed": false,
     "input": [
      "print 'move the arm to the designated position on another table to place the target down'\n",
      "Tgoal = np.array([[0,-1,0,3.5],[-1,0,0,1.5],[0,0,-1,0.855],[0,0,0,1]])\n",
      "res = basemanip.MoveToHandPosition(matrices=[Tgoal],seedik=16)\n",
      "robot.WaitForController(0)"
     ],
     "language": "python",
     "metadata": {},
     "outputs": [
      {
       "output_type": "stream",
       "stream": "stdout",
       "text": [
        "move the arm to the designated position on another table to place the target down\n"
       ]
      },
      {
       "output_type": "pyout",
       "prompt_number": 8,
       "text": [
        "True"
       ]
      }
     ],
     "prompt_number": 8
    },
    {
     "cell_type": "code",
     "collapsed": false,
     "input": [
      "taskprob.ReleaseFingers(target=target)\n",
      "robot.WaitForController(0)"
     ],
     "language": "python",
     "metadata": {},
     "outputs": [
      {
       "output_type": "pyout",
       "prompt_number": 9,
       "text": [
        "True"
       ]
      }
     ],
     "prompt_number": 9
    },
    {
     "cell_type": "code",
     "collapsed": false,
     "input": [
      "print 'move manipulator to initial position'\n",
      "basemanip.MoveManipulator(goal=[0, 0, 1.29023451, 0, -2.32099996, 0, -0.69800004, 0])\n",
      "robot.WaitForController(0)"
     ],
     "language": "python",
     "metadata": {},
     "outputs": [
      {
       "output_type": "stream",
       "stream": "stdout",
       "text": [
        "move manipulator to initial position\n"
       ]
      },
      {
       "output_type": "pyout",
       "prompt_number": 10,
       "text": [
        "True"
       ]
      }
     ],
     "prompt_number": 10
    },
    {
     "cell_type": "code",
     "collapsed": false,
     "input": [
      "print 'close fingers until collision'\n",
      "taskprob.CloseFingers()\n",
      "robot.WaitForController(0)"
     ],
     "language": "python",
     "metadata": {},
     "outputs": [
      {
       "output_type": "stream",
       "stream": "stdout",
       "text": [
        "close fingers until collision\n"
       ]
      },
      {
       "output_type": "pyout",
       "prompt_number": 11,
       "text": [
        "True"
       ]
      }
     ],
     "prompt_number": 11
    },
    {
     "cell_type": "code",
     "collapsed": false,
     "input": [],
     "language": "python",
     "metadata": {},
     "outputs": []
    }
   ],
   "metadata": {}
  }
 ]
}